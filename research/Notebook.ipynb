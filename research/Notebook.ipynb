{
 "cells": [
  {
   "cell_type": "code",
   "execution_count": 5,
   "metadata": {},
   "outputs": [],
   "source": [
    "import json\n",
    "import requests\n",
    "import time"
   ]
  },
  {
   "cell_type": "code",
   "execution_count": 17,
   "metadata": {},
   "outputs": [],
   "source": [
    "token_access = \"xxxxxxxxxxxxxxxxxxxxxxxxx\"\n",
    "headers = {\"Authorization\": f\"Bearer {token_access}\"}"
   ]
  },
  {
   "cell_type": "code",
   "execution_count": 11,
   "metadata": {},
   "outputs": [],
   "source": [
    "API_URL = \"https://api-inference.huggingface.co/models/Helsinki-NLP/opus-mt-en-es\""
   ]
  },
  {
   "cell_type": "code",
   "execution_count": 16,
   "metadata": {},
   "outputs": [
    {
     "name": "stdout",
     "output_type": "stream",
     "text": [
      "[{'translation_text': 'Hola mi nombre es Loïc y estoy feliz de estar aquí!'}]\n"
     ]
    }
   ],
   "source": [
    "def query(payload):\n",
    "\n",
    "    data = json.dumps(payload)\n",
    "\n",
    "    time.sleep(1)\n",
    "\n",
    "    while True:\n",
    "\n",
    "      try:\n",
    "        \n",
    "        response = requests.request(\"POST\", API_URL, headers=headers, data=data)\n",
    "        break\n",
    "      \n",
    "      except Exception:\n",
    "\n",
    "          continue\n",
    "\n",
    "    return json.loads(response.content.decode(\"utf-8\"))\n",
    "\n",
    "data = query(\n",
    "    {\n",
    "        \"inputs\": \"Hello my name is Loïc and I'm happy to be here!\",\n",
    "    }\n",
    ")\n",
    "\n",
    "print(data)"
   ]
  },
  {
   "cell_type": "code",
   "execution_count": 1,
   "metadata": {},
   "outputs": [
    {
     "name": "stdout",
     "output_type": "stream",
     "text": [
      "Welcome to chatMATE\n",
      "'q' or 'quit' to exit\n",
      "'c' or 'change' to change conversation\n",
      "'n' or 'new' to start a new conversation\n",
      "Isaac Newton (25 décembre 1642 - 20 mars 1726/27[a]) est un mathématicien, physicien, astronome, théoricien, alchimiste et auteur anglais (décrit dans ses propres jours comme un \"philosophe naturel\") qui est largement reconnu comme l'un des scientifiques les plus influents de tous les temps et comme une figure clé de la révolution scientifique.\n",
      "\n",
      "Newton est surtout connu pour avoir inventé et développé le calcul infinitésimal, la mécanique classique, la théorie de la gravitation universelle et la loi de la conservation de la masse, du mouvement et de l'énergie. Son ouvrage Philosophiæ Naturalis Principia Mathematica, publié en 1687, a décrit la loi universelle de la gravitation et les trois lois du mouvement de Newton qui ont jeté les bases de la mécanique classique. Newton a partagé le crédit pour le développement du calcul avec Gottfried Wilhelm Leibniz. Il a également construit le premier télescope réfléchissant et a développé une théorie des couleurs basée sur l'observation que le prisme décompose la lumière blanche en un spectre de couleurs visible. La loi du refroidissement de Newton en thermodynamique, la loi de Newton en mécanique des fluides et le quotient de Newton en algèbre ont tous été nommés en son honneur.\n",
      "\n",
      "Newton a utilisé ses mathématiques pour formuler des lois physiques qui pourraient expliquer les mouvements observés des planètes, des marées, des projectiles et d'autres objets. Il a démontré que les mouvements des objets sur Terre et des corps célestes pourraient être décrits par les mêmes principes. Son livre Opticks, publié en 1704, a révolutionné la compréhension de la lumière et de la couleur. En mécanique, il a introduit la notion de forces massives et a développé une théorie de la gravitation universelle, en s'appuyant sur le travail de Kepler. Il a également posé les bases de la mécanique classique, qui a perduré pendant les trois siècles suivants.\n",
      "\n",
      "Newton était un chrétien unitarien, qui a écrit davantage sur l'interprétation de la Bible et l'occultisme que sur la science. Il a refusé la trinité et a nié la divinité de Jésus-Christ et de l'Esprit Saint. En 1701, il fut élu député du Parlement d'Angleterre pour l'Université de Cambridge, représentant cette dernière jusqu'en 1702. Il a été fait chevalier par la reine Anne en 1705 et a passé les dernières décennies de sa vie à Londres, servant comme maître de la Monnaie royale et continuant ses études alchimiques.\n"
     ]
    }
   ],
   "source": [
    "from hugchat import hugchat\n",
    "\n",
    "chatbot = hugchat.ChatBot(cookie_path=\"cookies.json\")\n",
    "id = chatbot.new_conversation()\n",
    "chatbot.change_conversation(id)\n",
    "\n",
    "print('Welcome to chatMATE')\n",
    "print('\\'q\\' or \\'quit\\' to exit')\n",
    "print('\\'c\\' or \\'change\\' to change conversation')\n",
    "print('\\'n\\' or \\'new\\' to start a new conversation')\n",
    "\n",
    "while True:\n",
    " user_input = input('> ')\n",
    " if user_input.lower() == '':\n",
    "  pass\n",
    " elif user_input.lower() in ['q', 'quit']:\n",
    "  break\n",
    " elif user_input.lower() in ['c', 'change']:\n",
    "  print('Choose a conversation to switch to:')\n",
    "  print(chatbot.get_conversation_list())\n",
    " elif user_input.lower() in ['n', 'new']:\n",
    "  print('Clean slate!')\n",
    "  id = chatbot.new_conversation()\n",
    "  chatbot.change_conversation(id)\n",
    " else:\n",
    "  print(chatbot.chat(user_input))"
   ]
  },
  {
   "cell_type": "code",
   "execution_count": null,
   "metadata": {},
   "outputs": [],
   "source": []
  }
 ],
 "metadata": {
  "kernelspec": {
   "display_name": "mchatbot",
   "language": "python",
   "name": "python3"
  },
  "language_info": {
   "codemirror_mode": {
    "name": "ipython",
    "version": 3
   },
   "file_extension": ".py",
   "mimetype": "text/x-python",
   "name": "python",
   "nbconvert_exporter": "python",
   "pygments_lexer": "ipython3",
   "version": "3.8.19"
  }
 },
 "nbformat": 4,
 "nbformat_minor": 2
}
