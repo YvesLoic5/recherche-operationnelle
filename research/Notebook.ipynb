{
 "cells": [
  {
   "cell_type": "markdown",
   "metadata": {},
   "source": [
    "## TEST FOR THE USAGE OF PYOMO\n",
    "\n",
    " * ``Activate your virtual environment created (instruction in the README.md) ``\n",
    " * ``Run the code in the cell bellow``"
   ]
  },
  {
   "cell_type": "code",
   "execution_count": 3,
   "metadata": {},
   "outputs": [
    {
     "name": "stdout",
     "output_type": "stream",
     "text": [
      "\n",
      "Optimal value of x1: 2.0\n",
      "Optimal value of x2: 0.0\n",
      "Optimal value of x3: 8.0\n",
      "Optimal value of the objective function: 280.0\n"
     ]
    }
   ],
   "source": [
    "from pyomo.environ import *\n",
    "\n",
    "model = ConcreteModel()\n",
    "\n",
    "model.x1 = Var(within=NonNegativeReals)\n",
    "model.x2 = Var(within=NonNegativeReals)\n",
    "model.x3 = Var(within=NonNegativeReals)\n",
    "\n",
    "model.obj = Objective(expr= 60*model.x1 + 30*model.x2 + 20 * model.x3, sense=maximize)\n",
    "\n",
    "model.constraint1 = Constraint(expr= 8*model.x1 + 6*model.x2 + model.x3 <= 48)\n",
    "model.constraint2 = Constraint(expr= 4*model.x1 + 2*model.x2 + 1.5 * model.x3 <= 20)\n",
    "model.constraint3 = Constraint(expr= 2*model.x1 + 1.5 * model.x2 + 0.5 * model.x3 <= 8)\n",
    "model.constraint4 = Constraint(expr= model.x2 <=5)\n",
    "\n",
    "solver = SolverFactory('glpk')\n",
    "result = solver.solve(model)\n",
    "\n",
    "\n",
    "# Print the values of the variables and the objective function\n",
    "print(f\"\\nOptimal value of x1: {model.x1()}\")\n",
    "print(f\"Optimal value of x2: {model.x2()}\")\n",
    "print(f\"Optimal value of x3: {model.x3()}\")\n",
    "print(f\"Optimal value of the objective function: {model.obj()}\")\n"
   ]
  },
  {
   "cell_type": "markdown",
   "metadata": {},
   "source": []
  }
 ],
 "metadata": {
  "kernelspec": {
   "display_name": "mchatbot",
   "language": "python",
   "name": "python3"
  },
  "language_info": {
   "codemirror_mode": {
    "name": "ipython",
    "version": 3
   },
   "file_extension": ".py",
   "mimetype": "text/x-python",
   "name": "python",
   "nbconvert_exporter": "python",
   "pygments_lexer": "ipython3",
   "version": "3.8.19"
  }
 },
 "nbformat": 4,
 "nbformat_minor": 2
}
